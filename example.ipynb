{
 "metadata": {
  "language_info": {
   "codemirror_mode": {
    "name": "ipython",
    "version": 3
   },
   "file_extension": ".py",
   "mimetype": "text/x-python",
   "name": "python",
   "nbconvert_exporter": "python",
   "pygments_lexer": "ipython3",
   "version": "3.7.9-final"
  },
  "orig_nbformat": 2,
  "kernelspec": {
   "name": "python37964bitvenv9392fa9a51fe4fcfab924ce6072a088b",
   "display_name": "Python 3.7.9 64-bit ('venv')",
   "language": "python"
  }
 },
 "nbformat": 4,
 "nbformat_minor": 2,
 "cells": [
  {
   "cell_type": "code",
   "execution_count": 153,
   "metadata": {},
   "outputs": [
    {
     "output_type": "stream",
     "name": "stderr",
     "text": [
      "2021-03-19 14:57:03,797 - root - INFO - Loading BERT pre-trained checkpoint.\n"
     ]
    }
   ],
   "source": [
    "import opennre\n",
    "import itertools\n",
    "from utils import wikifier, coref_resolution, strip_punctuation\n",
    "import spacy\n",
    "import neuralcoref\n",
    "import nltk\n",
    "import transformers\n",
    "from config import APPO, STOPWORDS, TOKENIZER\n",
    "import re\n",
    "\n",
    "relation_model = opennre.get_model('wiki80_bert_softmax')\n",
    "#wiki80_bertentity_softmax => poor performance"
   ]
  },
  {
   "cell_type": "code",
   "execution_count": 154,
   "metadata": {},
   "outputs": [],
   "source": [
    "#nlp = spacy.load(\"en_core_web_sm\")\n",
    "#doc = nlp(text)\n",
    "#doc._.has_coref\n",
    "#doc._.coref_clusters\n",
    "#neuralcoref.add_to_pipe(nlp)"
   ]
  },
  {
   "cell_type": "code",
   "execution_count": 155,
   "metadata": {},
   "outputs": [
    {
     "output_type": "execute_result",
     "data": {
      "text/plain": [
       "\"Elon Musk is a business magnate, industrial designer, and engineer. Elon Musk is the founder, CEO, CTO, and chief designer of SpaceX. Elon Musk is also early investor, CEO, and product architect of Tesla , Inc. Elon Musk is also the founder of The Boring Company and the co-founder of Neuralink. A centibillionaire, Elon Musk became the richest person in the world in January 2021, with an estimated net worth of $185 billion at the time, surpassing Jeff Bezos. Elon Musk was born to a Canadian mother and South African father and raised in Pretoria, South Africa. Elon Musk briefly attended the University of Pretoria before moving to Canada aged 17 to attend Queen ' s University. Elon Musk transferred to the University of Pennsylvania two years later, where Elon Musk received dual bachelor's degrees in economics and physics. Elon Musk moved to California in 1995 to attend Stanford University, but decided instead to pursue a business career. Elon Musk went on co-founding a web software company Zip2 with Elon Musk brother Kimbal Musk.\""
      ]
     },
     "metadata": {},
     "execution_count": 155
    }
   ],
   "source": [
    "text = \"Elon Musk is a business magnate, industrial designer, and engineer. Elon Musk is the founder, CEO, CTO, and chief designer of SpaceX. Elon Musk is also early investor, CEO, and product architect of Tesla , Inc. Elon Musk is also the founder of The Boring Company and the co-founder of Neuralink. A centibillionaire, Elon Musk became the richest person in the world in January 2021, with an estimated net worth of $185 billion at the time, surpassing Jeff Bezos. Elon Musk was born to a Canadian mother and South African father and raised in Pretoria, South Africa. Elon Musk briefly attended the University of Pretoria before moving to Canada aged 17 to attend Queen ' s University. Elon Musk transferred to the University of Pennsylvania two years later, where Elon Musk received dual bachelor's degrees in economics and physics. Elon Musk moved to California in 1995 to attend Stanford University, but decided instead to pursue a business career. Elon Musk went on co-founding a web software company Zip2 with Elon Musk brother Kimbal Musk.\"\n",
    "\n",
    "text = coref_resolution(text)\n",
    "text"
   ]
  },
  {
   "cell_type": "code",
   "execution_count": 156,
   "metadata": {},
   "outputs": [],
   "source": [
    "ner = transformers.pipeline('ner', grouped_entities=True)\n",
    "entities = ner(text)"
   ]
  },
  {
   "cell_type": "code",
   "execution_count": 157,
   "metadata": {
    "tags": []
   },
   "outputs": [],
   "source": [
    "subjects = dict()\n",
    "for entity in entities:\n",
    "    if entity[\"word\"] not in subjects:\n",
    "        subjects[entity[\"word\"]] = {\n",
    "            \"type\": set([entity[\"entity_group\"]])\n",
    "        }\n",
    "    else:\n",
    "        subjects[entity[\"word\"]][\"type\"].add(entity[\"entity_group\"])\n",
    "\n",
    "for key in subjects:\n",
    "    subjects[strip_punctuation(key)] = subjects.pop(key)\n",
    "    \n",
    "sentences = [strip_punctuation(s) for s in nltk.sent_tokenize(text)]\n",
    "\n",
    "for i, sentence in enumerate(sentences):\n",
    "    for key in subjects.keys():\n",
    "\n",
    "        if key not in sentence:\n",
    "            continue\n",
    "        \n",
    "        key_len = len(key)\n",
    "        pos = [(m.start(), m.start() + key_len) for m in re.finditer(key, sentence)]\n",
    "        if \"pos\" not in subjects[key]:\n",
    "            subjects[key][\"pos\"] = dict()\n",
    "        subjects[key][\"pos\"][i] = pos"
   ]
  },
  {
   "cell_type": "code",
   "execution_count": 161,
   "metadata": {
    "tags": []
   },
   "outputs": [
    {
     "output_type": "stream",
     "name": "stderr",
     "text": [
      "2021-03-19 15:05:36,759 - root - INFO - Loading BERT pre-trained checkpoint.\n"
     ]
    }
   ],
   "source": [
    "#triples = set()\n",
    "triples = dict()\n",
    "relation_threshold = 0.75\n",
    "relation_model = opennre.get_model('wiki80_bert_softmax')\n",
    "\n",
    "for i, sentence in enumerate(sentences):\n",
    "    for subj in subjects.keys():\n",
    "        for obj in subjects.keys():\n",
    "\n",
    "            if subj == obj:\n",
    "                continue\n",
    "            \n",
    "            if (i not in subjects[subj][\"pos\"]) or (i not in subjects[obj][\"pos\"]):\n",
    "                continue\n",
    "\n",
    "            for pos_subject in subjects[subj][\"pos\"][i]:\n",
    "                for pos_object in subjects[obj][\"pos\"][i]:\n",
    "                    data = relation_model.infer({'text': sentence, 'h': {'pos': pos_subject}, 't': {'pos': pos_object}})\n",
    "\n",
    "                    if data[1] > relation_threshold:\n",
    "                        triple = (subj, data[0], obj)\n",
    "                        #triples.add((subj, data[0], obj))\n",
    "                        if (not triple in triples) or (triples[triple] < data[1]):\n",
    "                            triples[triple] = data[1]\n",
    "\n",
    "triples = [(k, v) for k, v in sorted(triples.items(), key=lambda x: x[1], reverse=True)]"
   ]
  },
  {
   "cell_type": "code",
   "execution_count": 171,
   "metadata": {},
   "outputs": [],
   "source": []
  },
  {
   "cell_type": "code",
   "execution_count": null,
   "metadata": {},
   "outputs": [],
   "source": []
  }
 ]
}